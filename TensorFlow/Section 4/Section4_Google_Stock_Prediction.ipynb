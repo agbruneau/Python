{
 "cells": [
  {
   "cell_type": "markdown",
   "metadata": {},
   "source": [
    "## Step 0: Importing Libraries"
   ]
  },
  {
   "cell_type": "code",
   "execution_count": 1,
   "metadata": {},
   "outputs": [],
   "source": [
    "import tensorflow as tf\n",
    "from tensorflow import keras\n",
    "import matplotlib.pyplot as plt\n",
    "import numpy as np\n",
    "import pandas as pd\n",
    "import seaborn as sns"
   ]
  },
  {
   "cell_type": "markdown",
   "metadata": {},
   "source": [
    "## Step 1: Importing Data"
   ]
  },
  {
   "cell_type": "code",
   "execution_count": 3,
   "metadata": {},
   "outputs": [
    {
     "data": {
      "text/html": [
       "<div>\n",
       "<style scoped>\n",
       "    .dataframe tbody tr th:only-of-type {\n",
       "        vertical-align: middle;\n",
       "    }\n",
       "\n",
       "    .dataframe tbody tr th {\n",
       "        vertical-align: top;\n",
       "    }\n",
       "\n",
       "    .dataframe thead th {\n",
       "        text-align: right;\n",
       "    }\n",
       "</style>\n",
       "<table border=\"1\" class=\"dataframe\">\n",
       "  <thead>\n",
       "    <tr style=\"text-align: right;\">\n",
       "      <th></th>\n",
       "      <th>Date</th>\n",
       "      <th>Open</th>\n",
       "      <th>High</th>\n",
       "      <th>Low</th>\n",
       "      <th>Close</th>\n",
       "      <th>Adj Close</th>\n",
       "      <th>Volume</th>\n",
       "    </tr>\n",
       "  </thead>\n",
       "  <tbody>\n",
       "    <tr>\n",
       "      <th>0</th>\n",
       "      <td>2004-08-19</td>\n",
       "      <td>49.676899</td>\n",
       "      <td>51.693783</td>\n",
       "      <td>47.669952</td>\n",
       "      <td>49.845802</td>\n",
       "      <td>49.845802</td>\n",
       "      <td>44994500</td>\n",
       "    </tr>\n",
       "    <tr>\n",
       "      <th>1</th>\n",
       "      <td>2004-08-20</td>\n",
       "      <td>50.178635</td>\n",
       "      <td>54.187561</td>\n",
       "      <td>49.925285</td>\n",
       "      <td>53.805050</td>\n",
       "      <td>53.805050</td>\n",
       "      <td>23005800</td>\n",
       "    </tr>\n",
       "    <tr>\n",
       "      <th>2</th>\n",
       "      <td>2004-08-23</td>\n",
       "      <td>55.017166</td>\n",
       "      <td>56.373344</td>\n",
       "      <td>54.172661</td>\n",
       "      <td>54.346527</td>\n",
       "      <td>54.346527</td>\n",
       "      <td>18393200</td>\n",
       "    </tr>\n",
       "    <tr>\n",
       "      <th>3</th>\n",
       "      <td>2004-08-24</td>\n",
       "      <td>55.260582</td>\n",
       "      <td>55.439419</td>\n",
       "      <td>51.450363</td>\n",
       "      <td>52.096165</td>\n",
       "      <td>52.096165</td>\n",
       "      <td>15361800</td>\n",
       "    </tr>\n",
       "    <tr>\n",
       "      <th>4</th>\n",
       "      <td>2004-08-25</td>\n",
       "      <td>52.140873</td>\n",
       "      <td>53.651051</td>\n",
       "      <td>51.604362</td>\n",
       "      <td>52.657513</td>\n",
       "      <td>52.657513</td>\n",
       "      <td>9257400</td>\n",
       "    </tr>\n",
       "  </tbody>\n",
       "</table>\n",
       "</div>"
      ],
      "text/plain": [
       "        Date       Open       High        Low      Close  Adj Close    Volume\n",
       "0 2004-08-19  49.676899  51.693783  47.669952  49.845802  49.845802  44994500\n",
       "1 2004-08-20  50.178635  54.187561  49.925285  53.805050  53.805050  23005800\n",
       "2 2004-08-23  55.017166  56.373344  54.172661  54.346527  54.346527  18393200\n",
       "3 2004-08-24  55.260582  55.439419  51.450363  52.096165  52.096165  15361800\n",
       "4 2004-08-25  52.140873  53.651051  51.604362  52.657513  52.657513   9257400"
      ]
     },
     "execution_count": 3,
     "metadata": {},
     "output_type": "execute_result"
    }
   ],
   "source": [
    "df = pd.read_csv('GOOG.csv', parse_dates=['Date'])\n",
    "df.head()"
   ]
  },
  {
   "cell_type": "markdown",
   "metadata": {},
   "source": [
    "### Plotting the value of attribute High with Date"
   ]
  },
  {
   "cell_type": "code",
   "execution_count": 4,
   "metadata": {},
   "outputs": [
    {
     "data": {
      "text/plain": [
       "<matplotlib.axes._subplots.AxesSubplot at 0x225eab03400>"
      ]
     },
     "execution_count": 4,
     "metadata": {},
     "output_type": "execute_result"
    },
    {
     "data": {
      "image/png": "[encoded data removed]",
      "text/plain": [
       "<Figure size 1152x288 with 1 Axes>"
      ]
     },
     "metadata": {},
     "output_type": "display_data"
    }
   ],
   "source": [
    "ax, fig = plt.subplots(figsize=(16,4))\n",
    "sns.lineplot(x = df['Date'], y = df['High'])"
   ]
  },
  {
   "cell_type": "code",
   "execution_count": 6,
   "metadata": {},
   "outputs": [],
   "source": [
    "df_date = df.set_index('Date')"
   ]
  },
  {
   "cell_type": "markdown",
   "metadata": {},
   "source": [
    "## Step 2: Train Test Split"
   ]
  },
  {
   "cell_type": "code",
   "execution_count": 7,
   "metadata": {},
   "outputs": [],
   "source": [
    "X_train = df_date[:'2018']\n",
    "X_test = df_date['2018':]"
   ]
  },
  {
   "cell_type": "code",
   "execution_count": 8,
   "metadata": {},
   "outputs": [
    {
     "data": {
      "text/plain": [
       "((3617, 6), (324, 6))"
      ]
     },
     "execution_count": 8,
     "metadata": {},
     "output_type": "execute_result"
    }
   ],
   "source": [
    "X_train.shape, X_test.shape"
   ]
  },
  {
   "cell_type": "code",
   "execution_count": 9,
   "metadata": {},
   "outputs": [
    {
     "data": {
      "text/plain": [
       "[<matplotlib.lines.Line2D at 0x225ef2dc160>]"
      ]
     },
     "execution_count": 9,
     "metadata": {},
     "output_type": "execute_result"
    },
    {
     "data": {
      "image/png": "[encoded data removed]",
      "text/plain": [
       "<Figure size 1152x288 with 1 Axes>"
      ]
     },
     "metadata": {},
     "output_type": "display_data"
    }
   ],
   "source": [
    "ax, fig = plt.subplots(figsize=(16,4))\n",
    "plt.plot(X_train['High'])\n",
    "plt.plot(X_test['High'])"
   ]
  },
  {
   "cell_type": "code",
   "execution_count": 10,
   "metadata": {},
   "outputs": [],
   "source": [
    "X_train_high = X_train['High']\n",
    "X_test_high = X_test['High']"
   ]
  },
  {
   "cell_type": "code",
   "execution_count": 11,
   "metadata": {},
   "outputs": [],
   "source": [
    "X_train_high = np.array(X_train_high)\n",
    "X_test_high = np.array(X_test_high)"
   ]
  },
  {
   "cell_type": "markdown",
   "metadata": {},
   "source": [
    "## Step 3: Min Max Scaling"
   ]
  },
  {
   "cell_type": "code",
   "execution_count": 12,
   "metadata": {},
   "outputs": [],
   "source": [
    "from sklearn.preprocessing import MinMaxScaler\n",
    "sc =MinMaxScaler()\n",
    "sc.fit(X_train_high.reshape(-1,1))\n",
    "X_train_scaled = sc.transform(X_train_high.reshape(-1,1))\n",
    "#X_test_scaled = sc.transform(X_test_high.reshape(-1,1))\n"
   ]
  },
  {
   "cell_type": "markdown",
   "metadata": {},
   "source": [
    "## Step 4: Preparing Dataset for Training"
   ]
  },
  {
   "cell_type": "code",
   "execution_count": 13,
   "metadata": {},
   "outputs": [],
   "source": [
    "window_size = 90"
   ]
  },
  {
   "cell_type": "code",
   "execution_count": 14,
   "metadata": {},
   "outputs": [],
   "source": [
    "def prepare_data(dataset, window_size):\n",
    "    X = []\n",
    "    y = []\n",
    "    for i in range(window_size,len(dataset)):\n",
    "        X.append(dataset[i-window_size:i,0])\n",
    "        y.append(dataset[i,0])\n",
    "\n",
    "    return np.array(X), np.array(y)"
   ]
  },
  {
   "cell_type": "code",
   "execution_count": 15,
   "metadata": {},
   "outputs": [],
   "source": [
    "X_train_new, y_train_new = prepare_data(X_train_scaled, window_size)\n"
   ]
  },
  {
   "cell_type": "code",
   "execution_count": 16,
   "metadata": {},
   "outputs": [
    {
     "data": {
      "text/plain": [
       "(414, 1)"
      ]
     },
     "execution_count": 16,
     "metadata": {},
     "output_type": "execute_result"
    }
   ],
   "source": [
    "df_ = df_date[len(df_date) - len(X_test) - window_size:].values\n",
    "_X_test = np.array(df_[:,1])\n",
    "_X_test_scaled = sc.transform(_X_test.reshape(-1,1))\n",
    "X_test_new, y_test_new = prepare_data(_X_test_scaled, window_size)\n",
    "_X_test_scaled.shape\n"
   ]
  },
  {
   "cell_type": "code",
   "execution_count": 17,
   "metadata": {},
   "outputs": [
    {
     "data": {
      "text/plain": [
       "((3527, 90), (3527,), (324, 90), (324,))"
      ]
     },
     "execution_count": 17,
     "metadata": {},
     "output_type": "execute_result"
    }
   ],
   "source": [
    "X_train_new.shape, y_train_new.shape, X_test_new.shape, y_test_new.shape"
   ]
  },
  {
   "cell_type": "code",
   "execution_count": 18,
   "metadata": {},
   "outputs": [
    {
     "data": {
      "text/plain": [
       "(array([0.00094209, 0.00298057, 0.0047673 , 0.00400388, 0.00254202,\n",
       "        0.00252171, 0.00279378, 0.00152277, 0.00079996, 0.00049947,\n",
       "        0.00025582, 0.        , 0.00010558, 0.00052383, 0.00039389,\n",
       "        0.00195727, 0.00270851, 0.00416631, 0.00507185, 0.00570939,\n",
       "        0.00639565, 0.00806461, 0.00758544, 0.00728089, 0.00848286,\n",
       "        0.00907979, 0.00777224, 0.01041984, 0.01351411, 0.0124096 ,\n",
       "        0.01319738, 0.01426535, 0.01493943, 0.01490694, 0.01548762,\n",
       "        0.01540641, 0.01507343, 0.01456584, 0.01697791, 0.01650281,\n",
       "        0.01776976, 0.01927223, 0.02057166, 0.01918695, 0.01964988,\n",
       "        0.03184831, 0.03763892, 0.03691204, 0.03564509, 0.03762267,\n",
       "        0.03988044, 0.03895459, 0.03959619, 0.04055046, 0.03600244,\n",
       "        0.03271325, 0.02992758, 0.02983013, 0.02874186, 0.03330205,\n",
       "        0.0357588 , 0.03515781, 0.03156406, 0.0307641 , 0.02951339,\n",
       "        0.02771043, 0.02751551, 0.02805559, 0.03064633, 0.03179146,\n",
       "        0.03297719, 0.0329975 , 0.03279446, 0.03239245, 0.03220971,\n",
       "        0.03206353, 0.0302362 , 0.0292129 , 0.02913981, 0.02970018,\n",
       "        0.02900986, 0.03130011, 0.03205947, 0.03197825, 0.03198231,\n",
       "        0.03521466, 0.03497914, 0.03456088, 0.03527151, 0.03718005]),\n",
       " 0.03728157201447422)"
      ]
     },
     "execution_count": 18,
     "metadata": {},
     "output_type": "execute_result"
    }
   ],
   "source": [
    "X_train_new[0] , y_train_new[0]"
   ]
  },
  {
   "cell_type": "code",
   "execution_count": 19,
   "metadata": {},
   "outputs": [],
   "source": [
    "X_train_new = np.reshape(X_train_new , newshape=( len(X_train)-window_size , window_size, 1))\n",
    "y_train_new = np.reshape(y_train_new , newshape=( len(X_train)-window_size , 1))\n",
    "X_test_new = np.reshape(X_test_new , newshape=( len(X_test)  , window_size, 1))\n",
    "y_test_new = np.reshape(y_test_new , newshape=( len(X_test)  ,1))"
   ]
  },
  {
   "cell_type": "markdown",
   "metadata": {},
   "source": [
    "## Step 5: Modelling Data"
   ]
  },
  {
   "cell_type": "code",
   "execution_count": 20,
   "metadata": {},
   "outputs": [],
   "source": [
    "from tensorflow.python.keras.datasets import imdb\n",
    "from tensorflow.python.keras.models import Sequential\n",
    "from tensorflow.python.keras.layers import Dense\n",
    "from tensorflow.python.keras.layers import LSTM, SimpleRNN, Dropout, Flatten\n",
    "from tensorflow.python.keras.layers import Embedding\n",
    "from tensorflow.python.keras.preprocessing import sequence\n",
    "from tensorflow.python.keras.optimizers import Adam"
   ]
  },
  {
   "cell_type": "code",
   "execution_count": 50,
   "metadata": {},
   "outputs": [],
   "source": [
    "model = Sequential()\n",
    "\n",
    "model.add(SimpleRNN(50, return_sequences= True , input_shape = (window_size,1)))\n",
    "model.add(Dropout(0.2))\n",
    "\n",
    "model.add(SimpleRNN(50, return_sequences= True ))\n",
    "model.add(Dropout(0.5))\n",
    "\n",
    "model.add(SimpleRNN(50 ))\n",
    "\n",
    "model.add(Dense(1, activation='linear'))"
   ]
  },
  {
   "cell_type": "code",
   "execution_count": 51,
   "metadata": {},
   "outputs": [],
   "source": [
    "model.compile(loss='mse', optimizer='Adam')"
   ]
  },
  {
   "cell_type": "code",
   "execution_count": 52,
   "metadata": {},
   "outputs": [
    {
     "name": "stdout",
     "output_type": "stream",
     "text": [
      "Epoch 1/20\n",
      "3527/3527 [==============================] - 18s 5ms/step - loss: 0.1269\n",
      "Epoch 2/20\n",
      "3527/3527 [==============================] - 15s 4ms/step - loss: 0.0147\n",
      "Epoch 3/20\n",
      "3527/3527 [==============================] - 14s 4ms/step - loss: 0.0085\n",
      "Epoch 4/20\n",
      "3527/3527 [==============================] - 15s 4ms/step - loss: 0.0059\n",
      "Epoch 5/20\n",
      "3527/3527 [==============================] - 15s 4ms/step - loss: 0.0049\n",
      "Epoch 6/20\n",
      "3527/3527 [==============================] - 15s 4ms/step - loss: 0.0037\n",
      "Epoch 7/20\n",
      "3527/3527 [==============================] - 15s 4ms/step - loss: 0.0035\n",
      "Epoch 8/20\n",
      "3527/3527 [==============================] - 15s 4ms/step - loss: 0.0032\n",
      "Epoch 9/20\n",
      "3527/3527 [==============================] - 15s 4ms/step - loss: 0.0033\n",
      "Epoch 10/20\n",
      "3527/3527 [==============================] - 15s 4ms/step - loss: 0.0035\n",
      "Epoch 11/20\n",
      "3527/3527 [==============================] - 15s 4ms/step - loss: 0.0024\n",
      "Epoch 12/20\n",
      "3527/3527 [==============================] - 16s 4ms/step - loss: 0.0021\n",
      "Epoch 13/20\n",
      "3527/3527 [==============================] - 15s 4ms/step - loss: 0.0020\n",
      "Epoch 14/20\n",
      "3527/3527 [==============================] - 16s 4ms/step - loss: 0.0020\n",
      "Epoch 15/20\n",
      "3527/3527 [==============================] - 16s 4ms/step - loss: 0.0017\n",
      "Epoch 16/20\n",
      "3527/3527 [==============================] - 16s 4ms/step - loss: 0.0016\n",
      "Epoch 17/20\n",
      "3527/3527 [==============================] - 15s 4ms/step - loss: 0.0014\n",
      "Epoch 18/20\n",
      "3527/3527 [==============================] - 16s 4ms/step - loss: 0.0015\n",
      "Epoch 19/20\n",
      "3527/3527 [==============================] - 16s 4ms/step - loss: 0.0015\n",
      "Epoch 20/20\n",
      "3527/3527 [==============================] - 16s 4ms/step - loss: 0.0015\n"
     ]
    }
   ],
   "source": [
    "model_history = model.fit(X_train_new, y_train_new, epochs=20, batch_size=64)"
   ]
  },
  {
   "cell_type": "code",
   "execution_count": 53,
   "metadata": {},
   "outputs": [
    {
     "name": "stdout",
     "output_type": "stream",
     "text": [
      "_________________________________________________________________\n",
      "Layer (type)                 Output Shape              Param #   \n",
      "=================================================================\n",
      "simple_rnn_3 (SimpleRNN)     (None, 90, 50)            2600      \n",
      "_________________________________________________________________\n",
      "dropout_2 (Dropout)          (None, 90, 50)            0         \n",
      "_________________________________________________________________\n",
      "simple_rnn_4 (SimpleRNN)     (None, 90, 50)            5050      \n",
      "_________________________________________________________________\n",
      "dropout_3 (Dropout)          (None, 90, 50)            0         \n",
      "_________________________________________________________________\n",
      "simple_rnn_5 (SimpleRNN)     (None, 50)                5050      \n",
      "_________________________________________________________________\n",
      "dense_1 (Dense)              (None, 1)                 51        \n",
      "=================================================================\n",
      "Total params: 12,751\n",
      "Trainable params: 12,751\n",
      "Non-trainable params: 0\n",
      "_________________________________________________________________\n",
      "None\n"
     ]
    }
   ],
   "source": [
    "print(model.summary())"
   ]
  },
  {
   "cell_type": "markdown",
   "metadata": {},
   "source": [
    "## Step 6: Saving Model"
   ]
  },
  {
   "cell_type": "code",
   "execution_count": 54,
   "metadata": {},
   "outputs": [],
   "source": [
    "model.save_weights('model_v1.h5')"
   ]
  },
  {
   "cell_type": "markdown",
   "metadata": {},
   "source": [
    "## Step 7: Visualizing the Losses"
   ]
  },
  {
   "cell_type": "code",
   "execution_count": 55,
   "metadata": {},
   "outputs": [
    {
     "data": {
      "image/png": "[encoded data removed]",
      "text/plain": [
       "<Figure size 432x288 with 1 Axes>"
      ]
     },
     "metadata": {},
     "output_type": "display_data"
    }
   ],
   "source": [
    "\n",
    "tra_loss = model_history.history['loss']\n",
    "\n",
    "plt.plot(tra_loss)\n",
    "plt.xlabel('Epoch')\n",
    "plt.ylabel('Loss')\n",
    "plt.title('Loss Curve')\n",
    "plt.legend([ 'Training Loss'])\n",
    "plt.show()"
   ]
  },
  {
   "cell_type": "markdown",
   "metadata": {},
   "source": [
    "## Step 8: Testing Your Neural Network"
   ]
  },
  {
   "cell_type": "code",
   "execution_count": 56,
   "metadata": {},
   "outputs": [],
   "source": [
    "y_pred = model.predict(X_test_new)"
   ]
  },
  {
   "cell_type": "code",
   "execution_count": 57,
   "metadata": {},
   "outputs": [],
   "source": [
    "y_pred = sc.inverse_transform(y_pred)"
   ]
  },
  {
   "cell_type": "code",
   "execution_count": 62,
   "metadata": {},
   "outputs": [
    {
     "data": {
      "text/plain": [
       "[<matplotlib.lines.Line2D at 0x22613641e48>]"
      ]
     },
     "execution_count": 62,
     "metadata": {},
     "output_type": "execute_result"
    },
    {
     "data": {
      "image/png": "[encoded data removed]",
      "text/plain": [
       "<Figure size 432x288 with 1 Axes>"
      ]
     },
     "metadata": {},
     "output_type": "display_data"
    }
   ],
   "source": [
    "plt.plot(y_pred)\n",
    "plt.plot( sc.inverse_transform(y_test_new))"
   ]
  },
  {
   "cell_type": "code",
   "execution_count": 63,
   "metadata": {},
   "outputs": [],
   "source": [
    "rms=np.sqrt(np.mean(np.power((y_pred-sc.inverse_transform(y_test_new)),2)))"
   ]
  },
  {
   "cell_type": "code",
   "execution_count": 64,
   "metadata": {},
   "outputs": [
    {
     "data": {
      "text/plain": [
       "36.41453646000072"
      ]
     },
     "execution_count": 64,
     "metadata": {},
     "output_type": "execute_result"
    }
   ],
   "source": [
    "rms"
   ]
  },
  {
   "cell_type": "code",
   "execution_count": null,
   "metadata": {},
   "outputs": [],
   "source": []
  }
 ],
 "metadata": {
  "kernelspec": {
   "display_name": "Python 3",
   "language": "python",
   "name": "python3"
  },
  "language_info": {
   "codemirror_mode": {
    "name": "ipython",
    "version": 3
   },
   "file_extension": ".py",
   "mimetype": "text/x-python",
   "name": "python",
   "nbconvert_exporter": "python",
   "pygments_lexer": "ipython3",
   "version": "3.6.5"
  }
 },
 "nbformat": 4,
 "nbformat_minor": 2
}
