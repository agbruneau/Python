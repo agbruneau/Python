{
 "cells": [
  {
   "cell_type": "markdown",
   "metadata": {},
   "source": [
    "Dataset Link: http://www.robots.ox.ac.uk/~vgg/data/flowers/102/"
   ]
  },
  {
   "cell_type": "code",
   "execution_count": 1,
   "metadata": {},
   "outputs": [],
   "source": [
    "from tensorflow.keras.applications import DenseNet121\n",
    "from tensorflow.keras.applications.densenet import preprocess_input\n",
    "import matplotlib.pyplot as plt"
   ]
  },
  {
   "cell_type": "code",
   "execution_count": 2,
   "metadata": {},
   "outputs": [
    {
     "name": "stdout",
     "output_type": "stream",
     "text": [
      "WARNING:tensorflow:From /root/miniconda3/envs/tf/lib/python3.6/site-packages/tensorflow/python/ops/resource_variable_ops.py:435: colocate_with (from tensorflow.python.framework.ops) is deprecated and will be removed in a future version.\n",
      "Instructions for updating:\n",
      "Colocations handled automatically by placer.\n"
     ]
    }
   ],
   "source": [
    "HEIGHT = 224\n",
    "WIDTH = 224\n",
    "BATCH_SIZE = 32\n",
    "\n",
    "base_model = DenseNet121(weights='imagenet', \n",
    "                      include_top=False, \n",
    "                      input_shape=(HEIGHT, WIDTH, 3))"
   ]
  },
  {
   "cell_type": "code",
   "execution_count": 3,
   "metadata": {},
   "outputs": [
    {
     "name": "stdout",
     "output_type": "stream",
     "text": [
      "Found 6552 images belonging to 102 classes.\n",
      "Found 818 images belonging to 102 classes.\n"
     ]
    }
   ],
   "source": [
    "from tensorflow.keras.preprocessing.image import ImageDataGenerator\n",
    "\n",
    "TRAIN_DIR = \"./flower_data/train/\"\n",
    "VALID_DIR = \"./flower_data/valid/\"\n",
    "\n",
    "\n",
    "\n",
    "train_datagen =  ImageDataGenerator(\n",
    "      preprocessing_function=preprocess_input\n",
    "    )\n",
    "\n",
    "train_generator = train_datagen.flow_from_directory(TRAIN_DIR, \n",
    "                                                    target_size=(HEIGHT, WIDTH), \n",
    "                                                    batch_size=BATCH_SIZE)\n",
    "\n",
    "valid_datagen = ImageDataGenerator( preprocessing_function=preprocess_input\n",
    "      )\n",
    "valid_generator = valid_datagen.flow_from_directory(VALID_DIR, target_size=(HEIGHT,WIDTH))"
   ]
  },
  {
   "cell_type": "code",
   "execution_count": 4,
   "metadata": {},
   "outputs": [
    {
     "name": "stdout",
     "output_type": "stream",
     "text": [
      "WARNING:tensorflow:From /root/miniconda3/envs/tf/lib/python3.6/site-packages/tensorflow/python/keras/layers/core.py:143: calling dropout (from tensorflow.python.ops.nn_ops) with keep_prob is deprecated and will be removed in a future version.\n",
      "Instructions for updating:\n",
      "Please use `rate` instead of `keep_prob`. Rate should be set to `rate = 1 - keep_prob`.\n"
     ]
    }
   ],
   "source": [
    "from tensorflow.keras.layers import Dense, Activation, Flatten, Dropout\n",
    "from tensorflow.keras.models import Sequential, Model\n",
    "\n",
    "def build_finetune_model(base_model, dropout, fc_layers, num_classes):\n",
    "    for layer in base_model.layers:\n",
    "        layer.trainable = False\n",
    "\n",
    "    x = base_model.output\n",
    "    x = Flatten()(x)\n",
    "    for fc in fc_layers:\n",
    "        # New FC layer, random init\n",
    "        x = Dense(fc, activation='relu')(x) \n",
    "        x = Dropout(dropout)(x)\n",
    "\n",
    "    # New softmax layer\n",
    "    predictions = Dense(num_classes, activation='softmax')(x) \n",
    "    \n",
    "    finetune_model = Model(inputs=base_model.input, outputs=predictions)\n",
    "\n",
    "    return finetune_model\n",
    "\n",
    "\n",
    "FC_LAYERS = [1024,256]\n",
    "dropout = 0.5\n",
    "\n",
    "finetune_model = build_finetune_model(base_model, \n",
    "                                      dropout=dropout, \n",
    "                                      fc_layers=FC_LAYERS, \n",
    "                                      num_classes=102);"
   ]
  },
  {
   "cell_type": "code",
   "execution_count": 5,
   "metadata": {},
   "outputs": [
    {
     "name": "stdout",
     "output_type": "stream",
     "text": [
      "WARNING:tensorflow:From /root/miniconda3/envs/tf/lib/python3.6/site-packages/tensorflow/python/ops/math_ops.py:3066: to_int32 (from tensorflow.python.ops.math_ops) is deprecated and will be removed in a future version.\n",
      "Instructions for updating:\n",
      "Use tf.cast instead.\n",
      "Epoch 1/20\n",
      "26/26 [==============================] - 4s 143ms/step - loss: 4.3782 - acc: 0.0941\n",
      "205/205 [==============================] - 21s 104ms/step - loss: 5.0224 - acc: 0.0240 - val_loss: 4.3782 - val_acc: 0.0941\n",
      "Epoch 2/20\n",
      "26/26 [==============================] - 2s 94ms/step - loss: 4.1885 - acc: 0.1345\n",
      "205/205 [==============================] - 18s 87ms/step - loss: 4.3777 - acc: 0.0726 - val_loss: 4.1885 - val_acc: 0.1345\n",
      "Epoch 3/20\n",
      "26/26 [==============================] - 3s 97ms/step - loss: 3.9544 - acc: 0.1711\n",
      "205/205 [==============================] - 18s 87ms/step - loss: 4.0414 - acc: 0.1242 - val_loss: 3.9544 - val_acc: 0.1711\n",
      "Epoch 4/20\n",
      "26/26 [==============================] - 2s 96ms/step - loss: 3.6593 - acc: 0.2237\n",
      "205/205 [==============================] - 18s 88ms/step - loss: 3.6943 - acc: 0.1917 - val_loss: 3.6593 - val_acc: 0.2237\n",
      "Epoch 5/20\n",
      "26/26 [==============================] - 3s 99ms/step - loss: 3.4437 - acc: 0.2751\n",
      "205/205 [==============================] - 18s 88ms/step - loss: 3.3946 - acc: 0.2531 - val_loss: 3.4437 - val_acc: 0.2751\n",
      "Epoch 6/20\n",
      "26/26 [==============================] - 3s 98ms/step - loss: 3.1988 - acc: 0.3264\n",
      "205/205 [==============================] - 18s 89ms/step - loss: 3.0540 - acc: 0.3080 - val_loss: 3.1988 - val_acc: 0.3264\n",
      "Epoch 7/20\n",
      "26/26 [==============================] - 2s 95ms/step - loss: 2.9561 - acc: 0.3924\n",
      "205/205 [==============================] - 18s 88ms/step - loss: 2.7889 - acc: 0.3584 - val_loss: 2.9561 - val_acc: 0.3924\n",
      "Epoch 8/20\n",
      "26/26 [==============================] - 3s 99ms/step - loss: 2.7911 - acc: 0.3998\n",
      "205/205 [==============================] - 18s 88ms/step - loss: 2.5601 - acc: 0.4028 - val_loss: 2.7911 - val_acc: 0.3998\n",
      "Epoch 9/20\n",
      "26/26 [==============================] - 3s 100ms/step - loss: 2.6690 - acc: 0.4193\n",
      "205/205 [==============================] - 18s 88ms/step - loss: 2.2978 - acc: 0.4628 - val_loss: 2.6690 - val_acc: 0.4193\n",
      "Epoch 10/20\n",
      "26/26 [==============================] - 3s 99ms/step - loss: 2.5385 - acc: 0.4218\n",
      "205/205 [==============================] - 18s 88ms/step - loss: 2.1285 - acc: 0.4942 - val_loss: 2.5385 - val_acc: 0.4218\n",
      "Epoch 11/20\n",
      "26/26 [==============================] - 3s 97ms/step - loss: 2.3827 - acc: 0.4584\n",
      "205/205 [==============================] - 18s 88ms/step - loss: 1.9219 - acc: 0.5350 - val_loss: 2.3827 - val_acc: 0.4584\n",
      "Epoch 12/20\n",
      "26/26 [==============================] - 3s 97ms/step - loss: 2.3014 - acc: 0.4609\n",
      "205/205 [==============================] - 18s 89ms/step - loss: 1.7401 - acc: 0.5704 - val_loss: 2.3014 - val_acc: 0.4609\n",
      "Epoch 13/20\n",
      "26/26 [==============================] - 2s 96ms/step - loss: 2.2027 - acc: 0.4951\n",
      "205/205 [==============================] - 18s 88ms/step - loss: 1.6015 - acc: 0.6001 - val_loss: 2.2027 - val_acc: 0.4951\n",
      "Epoch 14/20\n",
      "26/26 [==============================] - 3s 97ms/step - loss: 2.1560 - acc: 0.4890\n",
      "205/205 [==============================] - 18s 88ms/step - loss: 1.4798 - acc: 0.6299 - val_loss: 2.1560 - val_acc: 0.4890\n",
      "Epoch 15/20\n",
      "26/26 [==============================] - 2s 94ms/step - loss: 2.1195 - acc: 0.4829\n",
      "205/205 [==============================] - 18s 88ms/step - loss: 1.3407 - acc: 0.6624 - val_loss: 2.1195 - val_acc: 0.4829\n",
      "Epoch 16/20\n",
      "26/26 [==============================] - 3s 102ms/step - loss: 2.0047 - acc: 0.5183\n",
      "205/205 [==============================] - 18s 89ms/step - loss: 1.2502 - acc: 0.6761 - val_loss: 2.0047 - val_acc: 0.5183\n",
      "Epoch 17/20\n",
      "26/26 [==============================] - 3s 96ms/step - loss: 1.9148 - acc: 0.5342\n",
      "205/205 [==============================] - 18s 88ms/step - loss: 1.1403 - acc: 0.7024 - val_loss: 1.9148 - val_acc: 0.5342\n",
      "Epoch 18/20\n",
      "26/26 [==============================] - 3s 101ms/step - loss: 1.8621 - acc: 0.5293\n",
      "205/205 [==============================] - 18s 88ms/step - loss: 1.0432 - acc: 0.7271 - val_loss: 1.8621 - val_acc: 0.5293\n",
      "Epoch 19/20\n",
      "26/26 [==============================] - 3s 97ms/step - loss: 1.8811 - acc: 0.5183\n",
      "205/205 [==============================] - 18s 88ms/step - loss: 0.9779 - acc: 0.7407 - val_loss: 1.8811 - val_acc: 0.5183\n",
      "Epoch 20/20\n",
      "26/26 [==============================] - 3s 101ms/step - loss: 1.7936 - acc: 0.5526\n",
      "205/205 [==============================] - 18s 89ms/step - loss: 0.9389 - acc: 0.7540 - val_loss: 1.7936 - val_acc: 0.5526\n"
     ]
    }
   ],
   "source": [
    "from tensorflow.keras.optimizers import SGD, Adam\n",
    "from tensorflow.keras.callbacks import ModelCheckpoint\n",
    "\n",
    "NUM_EPOCHS = 20\n",
    "\n",
    "num_train_images = 6552\n",
    "num_valid_images = 818\n",
    "\n",
    "adam = SGD(lr=0.0007)\n",
    "finetune_model.compile(adam, loss='categorical_crossentropy', metrics=['accuracy'])\n",
    "\n",
    "filepath=\"./Inception_V3.h5\"\n",
    "checkpoint = ModelCheckpoint(filepath, monitor=[\"acc\"], verbose=1, mode='max')\n",
    "callbacks_list = [checkpoint]\n",
    "\n",
    "history = finetune_model.fit_generator(train_generator, validation_data=valid_generator, validation_steps= num_valid_images / BATCH_SIZE, epochs=NUM_EPOCHS, workers=8, \n",
    "                                       steps_per_epoch=num_train_images / BATCH_SIZE, \n",
    "                                       shuffle=True);\n",
    "\n",
    "\n",
    "\n"
   ]
  },
  {
   "cell_type": "code",
   "execution_count": 6,
   "metadata": {},
   "outputs": [
    {
     "name": "stdout",
     "output_type": "stream",
     "text": [
      "Epoch 1/10\n",
      "26/26 [==============================] - 3s 97ms/step - loss: 1.7487 - acc: 0.5538\n",
      "205/205 [==============================] - 19s 91ms/step - loss: 0.8507 - acc: 0.7758 - val_loss: 1.7487 - val_acc: 0.5538\n",
      "Epoch 2/10\n",
      "26/26 [==============================] - 3s 100ms/step - loss: 1.7125 - acc: 0.5697\n",
      "205/205 [==============================] - 18s 88ms/step - loss: 0.8159 - acc: 0.7862 - val_loss: 1.7125 - val_acc: 0.5697\n",
      "Epoch 3/10\n",
      "26/26 [==============================] - 2s 96ms/step - loss: 1.6701 - acc: 0.5819\n",
      "205/205 [==============================] - 18s 88ms/step - loss: 0.7446 - acc: 0.8033 - val_loss: 1.6701 - val_acc: 0.5819\n",
      "Epoch 4/10\n",
      "26/26 [==============================] - 2s 96ms/step - loss: 1.6717 - acc: 0.5819\n",
      "205/205 [==============================] - 18s 88ms/step - loss: 0.6852 - acc: 0.8249 - val_loss: 1.6717 - val_acc: 0.5819\n",
      "Epoch 5/10\n",
      "26/26 [==============================] - 3s 97ms/step - loss: 1.6144 - acc: 0.5978\n",
      "205/205 [==============================] - 18s 88ms/step - loss: 0.6777 - acc: 0.8188 - val_loss: 1.6144 - val_acc: 0.5978\n",
      "Epoch 6/10\n",
      "26/26 [==============================] - 3s 99ms/step - loss: 1.6197 - acc: 0.5917\n",
      "205/205 [==============================] - 18s 88ms/step - loss: 0.6112 - acc: 0.8413 - val_loss: 1.6197 - val_acc: 0.5917\n",
      "Epoch 7/10\n",
      "26/26 [==============================] - 3s 98ms/step - loss: 1.6522 - acc: 0.5733\n",
      "205/205 [==============================] - 18s 88ms/step - loss: 0.5711 - acc: 0.8465 - val_loss: 1.6522 - val_acc: 0.5733\n",
      "Epoch 8/10\n",
      "26/26 [==============================] - 3s 99ms/step - loss: 1.5344 - acc: 0.6064\n",
      "205/205 [==============================] - 18s 88ms/step - loss: 0.5534 - acc: 0.8532 - val_loss: 1.5344 - val_acc: 0.6064\n",
      "Epoch 9/10\n",
      "26/26 [==============================] - 3s 101ms/step - loss: 1.5560 - acc: 0.5978\n",
      "205/205 [==============================] - 18s 88ms/step - loss: 0.5249 - acc: 0.8602 - val_loss: 1.5560 - val_acc: 0.5978\n",
      "Epoch 10/10\n",
      "26/26 [==============================] - 3s 98ms/step - loss: 1.5521 - acc: 0.5990\n",
      "205/205 [==============================] - 18s 88ms/step - loss: 0.4957 - acc: 0.8703 - val_loss: 1.5521 - val_acc: 0.5990\n"
     ]
    }
   ],
   "source": [
    "history = finetune_model.fit_generator(train_generator, validation_data=valid_generator, validation_steps= num_valid_images / BATCH_SIZE, epochs=10, workers=8, \n",
    "                                       steps_per_epoch=num_train_images / BATCH_SIZE, \n",
    "                                       shuffle=True);\n"
   ]
  },
  {
   "cell_type": "code",
   "execution_count": 7,
   "metadata": {},
   "outputs": [
    {
     "data": {
      "image/png": "[encoded data removed]",
      "text/plain": [
       "<Figure size 432x288 with 1 Axes>"
      ]
     },
     "metadata": {
      "needs_background": "light"
     },
     "output_type": "display_data"
    },
    {
     "data": {
      "text/plain": [
       "<Figure size 432x288 with 0 Axes>"
      ]
     },
     "metadata": {},
     "output_type": "display_data"
    }
   ],
   "source": [
    "# Plot the training and validation loss + accuracy\n",
    "def plot_training(history):\n",
    "    acc = history.history['acc']\n",
    "    val_acc = history.history['val_acc']\n",
    "    loss = history.history['loss']\n",
    "    val_loss = history.history['val_loss']\n",
    "    epochs = range(len(acc))\n",
    "\n",
    "    plt.plot(epochs, acc, 'r.')\n",
    "    plt.plot(epochs, val_acc, 'r')\n",
    "    plt.title('Training and validation accuracy')\n",
    "\n",
    "    # plt.figure()\n",
    "    # plt.plot(epochs, loss, 'r.')\n",
    "    # plt.plot(epochs, val_loss, 'r-')\n",
    "    # plt.title('Training and validation loss')\n",
    "    plt.show()\n",
    "\n",
    "    plt.savefig('acc_vs_epochs.png')\n",
    "    \n",
    "    \n",
    "plot_training(history)\n"
   ]
  },
  {
   "cell_type": "code",
   "execution_count": 13,
   "metadata": {},
   "outputs": [
    {
     "name": "stdout",
     "output_type": "stream",
     "text": [
      "Found 818 images belonging to 102 classes.\n"
     ]
    }
   ],
   "source": [
    "test_datagen = ImageDataGenerator( preprocessing_function=preprocess_input)\n",
    "TEST_DIR = \"./flower_data/val/\"\n",
    "\n",
    "test_generator = test_datagen.flow_from_directory(TEST_DIR, target_size=(HEIGHT,WIDTH))"
   ]
  },
  {
   "cell_type": "code",
   "execution_count": 14,
   "metadata": {},
   "outputs": [
    {
     "data": {
      "text/plain": [
       "[1.5480054800327008, 0.59902203]"
      ]
     },
     "execution_count": 14,
     "metadata": {},
     "output_type": "execute_result"
    }
   ],
   "source": [
    "finetune_model.evaluate_generator(test_generator)"
   ]
  },
  {
   "cell_type": "code",
   "execution_count": 15,
   "metadata": {},
   "outputs": [],
   "source": [
    "finetune_model.save('./final.h5')"
   ]
  },
  {
   "cell_type": "code",
   "execution_count": null,
   "metadata": {},
   "outputs": [],
   "source": []
  }
 ],
 "metadata": {
  "kernelspec": {
   "display_name": "Python 3",
   "language": "python",
   "name": "python3"
  },
  "language_info": {
   "codemirror_mode": {
    "name": "ipython",
    "version": 3
   },
   "file_extension": ".py",
   "mimetype": "text/x-python",
   "name": "python",
   "nbconvert_exporter": "python",
   "pygments_lexer": "ipython3",
   "version": "3.6.5"
  }
 },
 "nbformat": 4,
 "nbformat_minor": 2
}
